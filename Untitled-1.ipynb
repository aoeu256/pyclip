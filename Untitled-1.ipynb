{
 "cells": [
  {
   "cell_type": "code",
   "execution_count": 2,
   "metadata": {},
   "outputs": [
    {
     "name": "stdout",
     "output_type": "stream",
     "text": [
      "Requirement already satisfied: pyautogui in c:\\users\\aoeu256\\anaconda3\\lib\\site-packages (0.9.54)\n",
      "Requirement already satisfied: pymsgbox in c:\\users\\aoeu256\\anaconda3\\lib\\site-packages (from pyautogui) (1.0.9)\n",
      "Requirement already satisfied: pytweening>=1.0.4 in c:\\users\\aoeu256\\anaconda3\\lib\\site-packages (from pyautogui) (1.2.0)\n",
      "Requirement already satisfied: mouseinfo in c:\\users\\aoeu256\\anaconda3\\lib\\site-packages (from pyautogui) (0.1.3)\n",
      "Requirement already satisfied: pyscreeze>=0.1.21 in c:\\users\\aoeu256\\anaconda3\\lib\\site-packages (from pyautogui) (0.1.30)\n",
      "Requirement already satisfied: pygetwindow>=0.0.5 in c:\\users\\aoeu256\\anaconda3\\lib\\site-packages (from pyautogui) (0.0.9)\n",
      "Requirement already satisfied: pyrect in c:\\users\\aoeu256\\anaconda3\\lib\\site-packages (from pygetwindow>=0.0.5->pyautogui) (0.2.0)\n",
      "Requirement already satisfied: Pillow>=9.2.0 in c:\\users\\aoeu256\\anaconda3\\lib\\site-packages (from pyscreeze>=0.1.21->pyautogui) (9.2.0)\n",
      "Requirement already satisfied: pyperclip in c:\\users\\aoeu256\\anaconda3\\lib\\site-packages (from mouseinfo->pyautogui) (1.8.2)\n"
     ]
    }
   ],
   "source": [
    "!pip install pyautogui"
   ]
  },
  {
   "cell_type": "code",
   "execution_count": null,
   "metadata": {},
   "outputs": [],
   "source": []
  }
 ],
 "metadata": {
  "kernelspec": {
   "display_name": "Python 3 (ipyflow)",
   "language": "python",
   "name": "ipyflow"
  },
  "language_info": {
   "codemirror_mode": {
    "name": "ipython",
    "version": 3
   },
   "file_extension": ".py",
   "mimetype": "text/x-python",
   "name": "python",
   "nbconvert_exporter": "python",
   "pygments_lexer": "ipython3",
   "version": "3.9.13"
  }
 },
 "nbformat": 4,
 "nbformat_minor": 2
}
